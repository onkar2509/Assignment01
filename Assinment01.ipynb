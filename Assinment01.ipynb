{
  "nbformat": 4,
  "nbformat_minor": 0,
  "metadata": {
    "colab": {
      "provenance": [],
      "authorship_tag": "ABX9TyP1nAwpH7ym0jB8j0EQLa4c",
      "include_colab_link": true
    },
    "kernelspec": {
      "name": "python3",
      "display_name": "Python 3"
    },
    "language_info": {
      "name": "python"
    },
    "gpuClass": "standard"
  },
  "cells": [
    {
      "cell_type": "markdown",
      "metadata": {
        "id": "view-in-github",
        "colab_type": "text"
      },
      "source": [
        "<a href=\"https://colab.research.google.com/github/onkar2509/Assignment01/blob/main/Assinment01.ipynb\" target=\"_parent\"><img src=\"https://colab.research.google.com/assets/colab-badge.svg\" alt=\"Open In Colab\"/></a>"
      ]
    },
    {
      "cell_type": "markdown",
      "source": [
        "### *** Activity 1***"
      ],
      "metadata": {
        "id": "rUpEr2iStco4"
      }
    },
    {
      "cell_type": "markdown",
      "source": [
        "# **Numpy  **"
      ],
      "metadata": {
        "id": "QPui-ZIhkUmQ"
      }
    },
    {
      "cell_type": "markdown",
      "source": [
        "# Search the maximum and minimum element in the given array using NumPy."
      ],
      "metadata": {
        "id": "xG0I-eQ-mmDj"
      }
    },
    {
      "cell_type": "code",
      "source": [
        "import numpy as np\n",
        "\n",
        "array = np.arange(20).reshape(5, 4)\n",
        "print(array)\n",
        "print()\n",
        "\n",
        "print(np.argmax(array))\n",
        "\n",
        "print(np.argmax(array, axis=1))\n",
        "\n",
        "print(np.argmax(array, axis=0))"
      ],
      "metadata": {
        "id": "Zl6QAVszmedg"
      },
      "execution_count": null,
      "outputs": []
    },
    {
      "cell_type": "markdown",
      "source": [
        "# Sort the elements in the given array using Numpy."
      ],
      "metadata": {
        "id": "MHoRg3wdm2ja"
      }
    },
    {
      "cell_type": "code",
      "source": [
        "import numpy as np\n",
        "\n",
        "array = np.array([\n",
        "    [3, 7, 1],\n",
        "    [10, 3, 2],\n",
        "    [5, 6, 7]\n",
        "])\n",
        "print(array)\n",
        "print()\n",
        "\n",
        "print(np.sort(array, axis=None))\n",
        "\n",
        "print(np.sort(array, axis=1))\n",
        "\n",
        "print(np.sort(array, axis=0))"
      ],
      "metadata": {
        "id": "WqMaxjqLmwVT"
      },
      "execution_count": null,
      "outputs": []
    },
    {
      "cell_type": "markdown",
      "source": [
        "# Find the mean of every NumPy array in the given list."
      ],
      "metadata": {
        "id": "6-KLJsS1nI_n"
      }
    },
    {
      "cell_type": "code",
      "source": [
        "import numpy as np\n",
        "\n",
        "list = [\n",
        "    np.array([3, 2, 8, 9]),\n",
        "    np.array([4, 12, 34, 25, 78]),\n",
        "    np.array([23, 12, 67])\n",
        "]\n",
        "\n",
        "result = []\n",
        "for i in range(len(list)):\n",
        "    result.append(np.mean(list[i]))\n",
        "print(result)"
      ],
      "metadata": {
        "id": "5JWs2Jg0nL2S",
        "colab": {
          "base_uri": "https://localhost:8080/"
        },
        "outputId": "502166aa-70ff-48d0-ad91-ff21317cc5d6"
      },
      "execution_count": 3,
      "outputs": [
        {
          "output_type": "stream",
          "name": "stdout",
          "text": [
            "[5.5, 30.6, 34.0]\n"
          ]
        }
      ]
    },
    {
      "cell_type": "markdown",
      "source": [
        "# Add rows and columns in NumPy array."
      ],
      "metadata": {
        "id": "40MbOg2gngwa"
      }
    },
    {
      "cell_type": "code",
      "source": [
        "import numpy as np\n",
        "\n",
        "array = np.array([\n",
        "    [3, 2, 8],\n",
        "    [4, 12, 34],\n",
        "    [23, 12, 67]\n",
        "])\n",
        "\n",
        "newRow = np.array([2, 1, 8])\n",
        "newArray = np.vstack((array, newRow))\n",
        "print(newArray)"
      ],
      "metadata": {
        "id": "3IxLdF0ynpI7"
      },
      "execution_count": null,
      "outputs": []
    },
    {
      "cell_type": "markdown",
      "source": [
        "# **Pandas  **"
      ],
      "metadata": {
        "id": "uyFXL9aFjYAZ"
      }
    },
    {
      "cell_type": "markdown",
      "source": [
        "# Creating dataframe"
      ],
      "metadata": {
        "id": "QiE9vmhZibk4"
      }
    },
    {
      "cell_type": "code",
      "execution_count": null,
      "metadata": {
        "id": "spZsmU-QZKtp"
      },
      "outputs": [],
      "source": [
        "import pandas as pd   \n",
        "x = ['Python', 'Pandas']  \n",
        " \n",
        "df = pd.DataFrame(x)  \n",
        "print(df)  "
      ]
    },
    {
      "cell_type": "markdown",
      "source": [
        "# Creating dataframe"
      ],
      "metadata": {
        "id": "gmVHudfVn0Jf"
      }
    },
    {
      "cell_type": "code",
      "source": [
        "import pandas as pd\n",
        "\n",
        "years = range(2014, 2018)\n",
        "\n",
        "shop1 = pd.Series([2409.14, 2941.01, 3496.83, 3119.55], index=years)\n",
        "shop2 = pd.Series([1203.45, 3441.62, 3007.83, 3619.53], index=years)\n",
        "shop3 = pd.Series([3412.12, 3491.16, 3457.19, 1963.10], index=years)"
      ],
      "metadata": {
        "id": "yJYCOphAhc4z"
      },
      "execution_count": 6,
      "outputs": []
    },
    {
      "cell_type": "markdown",
      "source": [
        "# Creating Series"
      ],
      "metadata": {
        "id": "thLh-9VhjkRL"
      }
    },
    {
      "cell_type": "code",
      "source": [
        "import pandas as pd\n",
        "s=pd.Series ([15,24,26,35,40])\n",
        "print (s)"
      ],
      "metadata": {
        "id": "uJrU0oYpgGOH"
      },
      "execution_count": null,
      "outputs": []
    },
    {
      "cell_type": "markdown",
      "source": [
        "# Creating Series"
      ],
      "metadata": {
        "id": "Gp4gqUy4n_Ci"
      }
    },
    {
      "cell_type": "code",
      "source": [
        "import pandas as pd\n",
        "a=pd.Series([3,5,7,9,11])\n",
        "print(a)"
      ],
      "metadata": {
        "id": "XAdLcNblhAud"
      },
      "execution_count": null,
      "outputs": []
    },
    {
      "cell_type": "markdown",
      "source": [
        "# **Matplotlib **"
      ],
      "metadata": {
        "id": "RounRtWlj7ky"
      }
    },
    {
      "cell_type": "markdown",
      "source": [
        "# Creating a Simple Plot"
      ],
      "metadata": {
        "id": "U8ukjGn2oWNY"
      }
    },
    {
      "cell_type": "code",
      "source": [
        "import matplotlib.pyplot as plt \n",
        "    \n",
        "x = [1,2,3] \n",
        "y = [2,4,1] \n",
        "      \n",
        "plt.plot(x, y) \n",
        "    \n",
        "plt.xlabel('x - axis') \n",
        "plt.ylabel('y - axis') \n",
        "    \n",
        "plt.title('My first graph!') \n",
        "    \n",
        "plt.show() "
      ],
      "metadata": {
        "id": "2PPySxorpRPz"
      },
      "execution_count": null,
      "outputs": []
    },
    {
      "cell_type": "markdown",
      "source": [
        "# Example 2"
      ],
      "metadata": {
        "id": "4Xy6JnFQp3D7"
      }
    },
    {
      "cell_type": "code",
      "source": [
        "import matplotlib.pyplot as plt\n",
        "plt.plot([1,1])\n",
        "plt.plot([2,2])\n",
        "plt.plot([3,3])  \n"
      ],
      "metadata": {
        "id": "CXAv7CWRptmd"
      },
      "execution_count": null,
      "outputs": []
    },
    {
      "cell_type": "markdown",
      "source": [
        "# Example3"
      ],
      "metadata": {
        "id": "YkODiKjoqP9V"
      }
    },
    {
      "cell_type": "code",
      "source": [
        "import matplotlib.pyplot as plt\n",
        "import numpy as np\n",
        "plt.plot([1,1])\n"
      ],
      "metadata": {
        "id": "kNKJGBcFqM2i"
      },
      "execution_count": null,
      "outputs": []
    },
    {
      "cell_type": "markdown",
      "source": [
        "# Creating a Simple Plot"
      ],
      "metadata": {
        "id": "yx4c-gLfqYUS"
      }
    },
    {
      "cell_type": "code",
      "source": [
        "import matplotlib.pyplot as plt\n",
        "\t\n",
        "x = [1,3,5]\n",
        "y = [2,4,6]\n",
        "\t\n",
        "plt.plot(x, y)\n",
        "\t\n",
        "plt.xlabel('x - axis')\n",
        "plt.ylabel('y - axis')\t\n",
        "plt.title('My first graph!')\n",
        "\t\n",
        "plt.show()\n"
      ],
      "metadata": {
        "id": "ktGg6BDQqa13"
      },
      "execution_count": null,
      "outputs": []
    },
    {
      "cell_type": "markdown",
      "source": [
        "# **Seaboarn**"
      ],
      "metadata": {
        "id": "9SPRnExHqtgR"
      }
    },
    {
      "cell_type": "markdown",
      "source": [
        "#Simple line plot is created using the lineplot() method"
      ],
      "metadata": {
        "id": "en7RnKZugEDe"
      }
    },
    {
      "cell_type": "code",
      "source": [
        "import seaborn as sns\n",
        "\n",
        "data = sns.load_dataset(\"iris\")\n",
        "\n",
        "sns.lineplot(x=\"sepal_length\", y=\"sepal_width\", data=data)\n"
      ],
      "metadata": {
        "id": "x_HBhv75q8k5"
      },
      "execution_count": null,
      "outputs": []
    },
    {
      "cell_type": "markdown",
      "source": [
        "# Using Seaborn with Matplotlib"
      ],
      "metadata": {
        "id": "8mZh2J9KgJiu"
      }
    },
    {
      "cell_type": "code",
      "source": [
        "import seaborn as sns\n",
        "import matplotlib.pyplot as plt\n",
        "\n",
        "data = sns.load_dataset(\"iris\")\n",
        "\n",
        "sns.lineplot(x=\"sepal_length\", y=\"sepal_width\", data=data)\n",
        "\n",
        "plt.title('Title using Matplotlib Function')\n",
        "\n",
        "plt.show()\n"
      ],
      "metadata": {
        "id": "I-PVbrC1sSxt"
      },
      "execution_count": null,
      "outputs": []
    },
    {
      "cell_type": "markdown",
      "source": [
        "# Setting the xlim and ylim"
      ],
      "metadata": {
        "id": "NwDqnYUxgSOB"
      }
    },
    {
      "cell_type": "code",
      "source": [
        "import seaborn as sns\n",
        "import matplotlib.pyplot as plt\n",
        "\n",
        "data = sns.load_dataset(\"iris\")\n",
        "\n",
        "sns.lineplot(x=\"sepal_length\", y=\"sepal_width\", data=data)\n",
        "\n",
        "plt.xlim(5)\n",
        "\n",
        "plt.show()\n"
      ],
      "metadata": {
        "id": "gqy1hyrosX8a"
      },
      "execution_count": null,
      "outputs": []
    },
    {
      "cell_type": "markdown",
      "source": [
        "# Customizing Seaborn Plots Using the dark theme"
      ],
      "metadata": {
        "id": "i13udXAVgYk6"
      }
    },
    {
      "cell_type": "code",
      "source": [
        "import seaborn as sns\n",
        "import matplotlib.pyplot as plt\n",
        "\n",
        "data = sns.load_dataset(\"iris\")\n",
        "\n",
        "sns.lineplot(x=\"sepal_length\", y=\"sepal_width\", data=data)\n",
        "\n",
        "sns.set_style(\"dark\")\n",
        "plt.show()\n"
      ],
      "metadata": {
        "id": "9_vzoogjsfSk"
      },
      "execution_count": null,
      "outputs": []
    },
    {
      "cell_type": "markdown",
      "source": [
        "# **Plotly **"
      ],
      "metadata": {
        "id": "Htudm2FCtBMT"
      }
    },
    {
      "cell_type": "markdown",
      "source": [
        "# Package Structure of Plotly"
      ],
      "metadata": {
        "id": "BDbhX053gtSD"
      }
    },
    {
      "cell_type": "code",
      "source": [
        "import plotly.express as px\n",
        "\n",
        "fig = px.line(x=[1,2, 3], y=[1, 2, 3])\n",
        "\n",
        "print(fig)\n"
      ],
      "metadata": {
        "id": "D0ri5DMttB7G"
      },
      "execution_count": null,
      "outputs": []
    },
    {
      "cell_type": "markdown",
      "source": [
        "# Simple line chart by passing the x, y coordinates of the points to be plotted."
      ],
      "metadata": {
        "id": "Oof8GMQShboO"
      }
    },
    {
      "cell_type": "code",
      "source": [
        "import plotly.express as px\n",
        "\n",
        "fig = px.line(x=[1, 2, 3], y=[1, 2, 3])\n",
        "\n",
        "fig.show()\n"
      ],
      "metadata": {
        "id": "M50i_vvMtJub"
      },
      "execution_count": null,
      "outputs": []
    },
    {
      "cell_type": "markdown",
      "source": [
        "# Line Chart"
      ],
      "metadata": {
        "id": "QEKi7crLh7jO"
      }
    },
    {
      "cell_type": "code",
      "source": [
        "import plotly.express as px\n",
        "\n",
        "df = px.data.iris()\n",
        "\n",
        "fig = px.line(df, x=\"species\", y=\"petal_width\")\n",
        "\n",
        "fig.show()\n"
      ],
      "metadata": {
        "id": "gJEWM05YtNQz"
      },
      "execution_count": null,
      "outputs": []
    },
    {
      "cell_type": "markdown",
      "source": [
        "# bar chart"
      ],
      "metadata": {
        "id": "-p9xHhXCiLX4"
      }
    },
    {
      "cell_type": "code",
      "source": [
        "import plotly.express as px\n",
        "\n",
        "df = px.data.iris()\n",
        "\n",
        "fig = px.bar(df, x=\"sepal_width\", y=\"sepal_length\")\n",
        "\n",
        "fig.show()\n"
      ],
      "metadata": {
        "id": "NBw9ShXKtYVC"
      },
      "execution_count": null,
      "outputs": []
    },
    {
      "cell_type": "markdown",
      "source": [
        "**Activity 2**"
      ],
      "metadata": {
        "id": "h75XxCSQtvU7"
      }
    },
    {
      "cell_type": "markdown",
      "source": [
        "# **Bar chart **"
      ],
      "metadata": {
        "id": "Fi42YS02uEi1"
      }
    },
    {
      "cell_type": "markdown",
      "source": [
        "# Bar Chart in Python using Matplotlib"
      ],
      "metadata": {
        "id": "oNh0GhC6jm6l"
      }
    },
    {
      "cell_type": "code",
      "source": [
        "import matplotlib.pyplot as plt\n",
        "   \n",
        "country = ['A', 'B', 'C', 'D', 'E']\n",
        "gdp_per_capita = [45000, 42000, 52000, 49000, 47000]\n",
        "\n",
        "plt.bar(country, gdp_per_capita)\n",
        "plt.title('Country Vs GDP Per Capita')\n",
        "plt.xlabel('Country')\n",
        "plt.ylabel('GDP Per Capita')\n",
        "plt.show()"
      ],
      "metadata": {
        "id": "PIgZHuA7uQaj"
      },
      "execution_count": null,
      "outputs": []
    },
    {
      "cell_type": "markdown",
      "source": [
        "# pyplot.bar()"
      ],
      "metadata": {
        "id": "i-eBeJAdkE3p"
      }
    },
    {
      "cell_type": "code",
      "source": [
        "import numpy as np\n",
        "import matplotlib.pyplot as plt\n",
        "N = 5\n",
        "menMeans = (20, 35, 30, 35, 27)\n",
        "womenMeans = (25, 32, 34, 20, 25)\n",
        "ind = np.arange(N) # the x locations for the groups\n",
        "width = 0.35\n",
        "fig = plt.figure()\n",
        "ax = fig.add_axes([0,0,1,1])\n",
        "ax.bar(ind, menMeans, width, color='r')\n",
        "ax.bar(ind, womenMeans, width,bottom=menMeans, color='b')\n",
        "ax.set_ylabel('Scores')\n",
        "ax.set_title('Scores by group and gender')\n",
        "ax.set_xticks(ind, ('G1', 'G2', 'G3', 'G4', 'G5'))\n",
        "ax.set_yticks(np.arange(0, 81, 10))\n",
        "ax.legend(labels=['Men', 'Women'])\n",
        "plt.show()"
      ],
      "metadata": {
        "id": "cGUbSAwGuRAE"
      },
      "execution_count": null,
      "outputs": []
    },
    {
      "cell_type": "code",
      "source": [
        "import numpy as np\n",
        "import matplotlib.pyplot as plt\n",
        "data = [[30, 25, 50, 20],\n",
        "[40, 23, 51, 17],\n",
        "[35, 22, 45, 19]]\n",
        "X = np.arange(4)\n",
        "fig = plt.figure()\n",
        "ax = fig.add_axes([0,0,1,1])\n",
        "ax.bar(X + 0.00, data[0], color = 'b', width = 0.25)\n",
        "ax.bar(X + 0.25, data[1], color = 'g', width = 0.25)\n",
        "ax.bar(X + 0.50, data[2], color = 'r', width = 0.25)"
      ],
      "metadata": {
        "id": "7s0utlSEuR7Y"
      },
      "execution_count": null,
      "outputs": []
    },
    {
      "cell_type": "code",
      "source": [
        "import matplotlib.pyplot as plt\n",
        "   \n",
        "country = ['x', 'Y', 'Z', 'P', 'W']\n",
        "gdp_per_capita = [2400, 3500, 4300, 3600, 4200]\n",
        "\n",
        "plt.bar(country, gdp_per_capita)\n",
        "plt.title('Country Vs GDP Per Capita')\n",
        "plt.xlabel('Country')\n",
        "plt.ylabel('GDP Per Capita')\n",
        "plt.show()"
      ],
      "metadata": {
        "id": "zVFgl-PVuRpL"
      },
      "execution_count": null,
      "outputs": []
    },
    {
      "cell_type": "markdown",
      "source": [
        "## **Time series**"
      ],
      "metadata": {
        "id": "Pkn1TaWQuSsD"
      }
    },
    {
      "cell_type": "markdown",
      "source": [
        "# Sample Data for Creating Time Series"
      ],
      "metadata": {
        "id": "nPCDziYkiexe"
      }
    },
    {
      "cell_type": "markdown",
      "source": [
        "ValueDate\tPrice\n",
        "01-01-2018,\t1042.05\n",
        "02-01-2018,\t1033.55\n",
        "03-01-2018,\t1029.7\n",
        "04-01-2018,\t1021.3\n",
        "05-01-2018,\t1015.4\n",
        "...\n",
        "...\n",
        "...\n",
        "...\n",
        "23-03-2018,\t1161.3\n",
        "26-03-2018,\t1167.6\n",
        "27-03-2018,\t1155.25\n",
        "28-03-2018,\t1154\n",
        "```"
      ],
      "metadata": {
        "id": "f91q0x69xwCc"
      }
    },
    {
      "cell_type": "code",
      "source": [
        "import pandas as pd\n",
        "import plotly.express as px\n",
        "df=pd.read_csv(\"/content/drive/MyDrive/Datasets/dataset1/fifa.csv\")\n",
        "p1=px.line(df,x='Date',y='ARG')\n",
        "p1.show()"
      ],
      "metadata": {
        "id": "PyucLM3-ucAr"
      },
      "execution_count": null,
      "outputs": []
    },
    {
      "cell_type": "code",
      "source": [
        "import pandas as pd\n",
        "import plotly.express as px\n",
        "data=pd.read_csv(\"/content/drive/MyDrive/Datasets/dataset1/flight_delays.csv\")\n",
        "p1=px.line(data,x='Month',y=\"AA\")\n",
        "px.line(data)"
      ],
      "metadata": {
        "id": "Ni_zPjDPubwz"
      },
      "execution_count": null,
      "outputs": []
    },
    {
      "cell_type": "code",
      "source": [
        "import pandas as pd\n",
        "import plotly.express as px\n",
        "a=pd.read_csv(\"/content/drive/MyDrive/Datasets/dataset1/museum_visitors.csv\")\n",
        "p1=px.line(a,x='Date',y='Firehouse Museum')\n",
        "p1.show()"
      ],
      "metadata": {
        "id": "3kKeMOwfubfX"
      },
      "execution_count": null,
      "outputs": []
    },
    {
      "cell_type": "markdown",
      "source": [
        "## **Box plot**"
      ],
      "metadata": {
        "id": "QxB8Zh84udxU"
      }
    },
    {
      "cell_type": "markdown",
      "source": [
        "# Simple Box Plot"
      ],
      "metadata": {
        "id": "F_evUTMudRGM"
      }
    },
    {
      "cell_type": "code",
      "source": [
        "import matplotlib.pyplot as plt\n",
        "import numpy as np\n",
        "\n",
        "\n",
        "np.random.seed(10)\n",
        "data = np.random.normal(100, 20, 200)\n",
        "\n",
        "fig = plt.figure(figsize =(10, 7))\n",
        "\n",
        "plt.boxplot(data)\n",
        "\n",
        "plt.show()\n"
      ],
      "metadata": {
        "id": "-3zOhT_eunEI"
      },
      "execution_count": null,
      "outputs": []
    },
    {
      "cell_type": "markdown",
      "source": [
        "# Customizing Box Plot"
      ],
      "metadata": {
        "id": "cDfcFd0HdZtg"
      }
    },
    {
      "cell_type": "code",
      "source": [
        "import matplotlib.pyplot as plt\n",
        "import numpy as np\n",
        "\n",
        "np.random.seed(10)\n",
        "\n",
        "data_1 = np.random.normal(100, 10, 200)\n",
        "data_2 = np.random.normal(90, 20, 200)\n",
        "data_3 = np.random.normal(80, 30, 200)\n",
        "data_4 = np.random.normal(70, 40, 200)\n",
        "data = [data_1, data_2, data_3, data_4]\n",
        "\n",
        "fig = plt.figure(figsize =(10, 7))\n",
        "\n",
        "ax = fig.add_axes([0, 0, 1, 1])\n",
        "\n",
        "bp = ax.boxplot(data)\n",
        "\n",
        "plt.show()\n"
      ],
      "metadata": {
        "id": "jAjEFtKIuoSc"
      },
      "execution_count": null,
      "outputs": []
    },
    {
      "cell_type": "markdown",
      "source": [
        "#  Modify the above plot with some of the customizations"
      ],
      "metadata": {
        "id": "k4hsXNNjdh9L"
      }
    },
    {
      "cell_type": "code",
      "source": [
        "import matplotlib.pyplot as plt\n",
        "import numpy as np\n",
        "\n",
        "np.random.seed(10)\n",
        "data_1 = np.random.normal(100, 10, 200)\n",
        "data_2 = np.random.normal(90, 20, 200)\n",
        "data_3 = np.random.normal(80, 30, 200)\n",
        "data_4 = np.random.normal(70, 40, 200)\n",
        "data = [data_1, data_2, data_3, data_4]\n",
        "\n",
        "fig = plt.figure(figsize =(10, 7))\n",
        "ax = fig.add_subplot(111)\n",
        "\n",
        "bp = ax.boxplot(data, patch_artist = True,\n",
        "\t\t\t\tnotch ='True', vert = 0)\n",
        "\n",
        "colors = ['#0000FF', '#00FF00',\n",
        "\t\t'#FFFF00', '#FF00FF']\n",
        "\n",
        "for patch, color in zip(bp['boxes'], colors):\n",
        "\tpatch.set_facecolor(color)\n",
        "\n",
        "for whisker in bp['whiskers']:\n",
        "\twhisker.set(color ='#8B008B',\n",
        "\t\t\t\tlinewidth = 1.5,\n",
        "\t\t\t\tlinestyle =\":\")\n",
        "\n",
        "for cap in bp['caps']:\n",
        "\tcap.set(color ='#8B008B',\n",
        "\t\t\tlinewidth = 2)\n",
        "\n",
        "for median in bp['medians']:\n",
        "\tmedian.set(color ='red',\n",
        "\t\t\tlinewidth = 3)\n",
        "\n",
        "for flier in bp['fliers']:\n",
        "\tflier.set(marker ='D',\n",
        "\t\t\tcolor ='#e7298a',\n",
        "\t\t\talpha = 0.5)\n",
        "\t\n",
        "ax.set_yticklabels(['data_1', 'data_2',\n",
        "\t\t\t\t\t'data_3', 'data_4'])\n",
        "\n",
        "plt.title(\"Customized box plot\")\n",
        "\n",
        "ax.get_xaxis().tick_bottom()\n",
        "ax.get_yaxis().tick_left()\n",
        "\t\n",
        "plt.show()\n"
      ],
      "metadata": {
        "id": "dYHqIuFOun_c"
      },
      "execution_count": null,
      "outputs": []
    },
    {
      "cell_type": "markdown",
      "source": [
        "## **Scattered plot**"
      ],
      "metadata": {
        "id": "qfSkpK_Uuo-Y"
      }
    },
    {
      "cell_type": "markdown",
      "source": [
        "# Use the scatter() method to draw a scatter plot diagram:"
      ],
      "metadata": {
        "id": "5yoRWMTrYBqK"
      }
    },
    {
      "cell_type": "code",
      "source": [
        "import matplotlib.pyplot as plt\n",
        "\n",
        "x = [5,7,8,7,2,17,2,9,4,11,12,9,6]\n",
        "y = [99,86,87,88,111,86,103,87,94,78,77,85,86]\n",
        "\n",
        "plt.scatter(x, y)\n",
        "plt.show()"
      ],
      "metadata": {
        "id": "XJUo6bSEuz8J"
      },
      "execution_count": null,
      "outputs": []
    },
    {
      "cell_type": "markdown",
      "source": [
        "# A scatter plot with 1000 dots:"
      ],
      "metadata": {
        "id": "AI-Hx8mKX4C2"
      }
    },
    {
      "cell_type": "code",
      "source": [
        "import numpy\n",
        "import matplotlib.pyplot as plt\n",
        "\n",
        "x = numpy.random.normal(5.0, 1.0, 1000)\n",
        "y = numpy.random.normal(10.0, 2.0, 1000)\n",
        "\n",
        "plt.scatter(x, y)\n",
        "plt.show()"
      ],
      "metadata": {
        "id": "pKJAQZp_u05B"
      },
      "execution_count": null,
      "outputs": []
    },
    {
      "cell_type": "markdown",
      "source": [
        "# basic example of a scatter plot. "
      ],
      "metadata": {
        "id": "hDP_vT0zYMwe"
      }
    },
    {
      "cell_type": "code",
      "source": [
        "import matplotlib.pyplot as plt\n",
        "\n",
        "\n",
        "x =[5, 7, 8, 7, 2, 17, 2, 9,\n",
        "\t4, 11, 12, 9, 6]\n",
        "\n",
        "y =[99, 86, 87, 88, 100, 86,\n",
        "\t103, 87, 94, 78, 77, 85, 86]\n",
        "\n",
        "plt.scatter(x, y, c =\"blue\")\n",
        "\n",
        "plt.show()\n"
      ],
      "metadata": {
        "id": "dUIjUqFMu0nn"
      },
      "execution_count": null,
      "outputs": []
    },
    {
      "cell_type": "markdown",
      "source": [
        "# Scatter plot with different shape and colour for two datasets. "
      ],
      "metadata": {
        "id": "4VNMMoRrYXVh"
      }
    },
    {
      "cell_type": "code",
      "source": [
        "import matplotlib.pyplot as plt\n",
        "\n",
        "x1 = [89, 43, 36, 36, 95, 10,\n",
        "\t66, 34, 38, 20]\n",
        "\n",
        "y1 = [21, 46, 3, 35, 67, 95,\n",
        "\t53, 72, 58, 10]\n",
        "\n",
        "x2 = [26, 29, 48, 64, 6, 5,\n",
        "\t36, 66, 72, 40]\n",
        "\n",
        "y2 = [26, 34, 90, 33, 38,\n",
        "\t20, 56, 2, 47, 15]\n",
        "\n",
        "plt.scatter(x1, y1, c =\"pink\",\n",
        "\t\t\tlinewidths = 2,\n",
        "\t\t\tmarker =\"s\",\n",
        "\t\t\tedgecolor =\"green\",\n",
        "\t\t\ts = 50)\n",
        "\n",
        "plt.scatter(x2, y2, c =\"yellow\",\n",
        "\t\t\tlinewidths = 2,\n",
        "\t\t\tmarker =\"^\",\n",
        "\t\t\tedgecolor =\"red\",\n",
        "\t\t\ts = 200)\n",
        "\n",
        "plt.xlabel(\"X-axis\")\n",
        "plt.ylabel(\"Y-axis\")\n",
        "plt.show()\n"
      ],
      "metadata": {
        "id": "BLZfU_ERu0XN"
      },
      "execution_count": null,
      "outputs": []
    },
    {
      "cell_type": "markdown",
      "source": [
        "## **Line chart**"
      ],
      "metadata": {
        "id": "9MBRJmrdu1dt"
      }
    },
    {
      "cell_type": "markdown",
      "source": [
        "# Simple line plots"
      ],
      "metadata": {
        "id": "KYZc77yPYpyh"
      }
    },
    {
      "cell_type": "code",
      "source": [
        "import matplotlib.pyplot as plt\n",
        "import numpy as np\n",
        "\n",
        "x = np.array([1, 2, 3, 4]) \n",
        "y = x*2 \n",
        "\n",
        "plt.plot(x, y)\n",
        "plt.show()\n"
      ],
      "metadata": {
        "id": "FbEJ_rp3u6xh"
      },
      "execution_count": null,
      "outputs": []
    },
    {
      "cell_type": "markdown",
      "source": [
        "# Simple line plot with labels and title"
      ],
      "metadata": {
        "id": "0W1QQymnYy0e"
      }
    },
    {
      "cell_type": "code",
      "source": [
        "import matplotlib.pyplot as plt\n",
        "import numpy as np\n",
        "\n",
        "x = np.array([1, 2, 3, 4])\n",
        "y = x*2\n",
        "\n",
        "plt.plot(x, y)\n",
        "plt.xlabel(\"X-axis\") # add X-axis label\n",
        "plt.ylabel(\"Y-axis\") # add Y-axis label\n",
        "plt.title(\"Time and Speed\") # add title\n",
        "plt.show()\n",
        "\n"
      ],
      "metadata": {
        "id": "FQKm_s6Du70X"
      },
      "execution_count": null,
      "outputs": []
    },
    {
      "cell_type": "markdown",
      "source": [
        "# Maltiple chart"
      ],
      "metadata": {
        "id": "7kB1YmAVZbS2"
      }
    },
    {
      "cell_type": "code",
      "source": [
        "import matplotlib.pyplot as plt\n",
        "import numpy as np\n",
        "\n",
        "\n",
        "x = np.array([1, 2, 3, 4])\n",
        "y = x*2\n",
        "\n",
        "plt.plot(x, y)\n",
        "plt.xlabel(\"X-axis\")\n",
        "plt.ylabel(\"Y-axis\")\n",
        "plt.title(\"Any suitable title\")\n",
        "plt.show() # show first chart\n",
        "\n",
        "plt.figure()\n",
        "x1 = [2, 4, 6, 8]\n",
        "y1 = [3, 5, 7, 9]\n",
        "plt.plot(x1, y1, '-.')\n",
        "\n",
        "plt.show()\n"
      ],
      "metadata": {
        "id": "SevJ9Fn6u7ky"
      },
      "execution_count": null,
      "outputs": []
    },
    {
      "cell_type": "markdown",
      "source": [
        "# Multiple plots on the same axis"
      ],
      "metadata": {
        "id": "W58DqBnaZos3"
      }
    },
    {
      "cell_type": "code",
      "source": [
        "import matplotlib.pyplot as plt\n",
        "import numpy as np\n",
        "\n",
        "x = np.array([1, 2, 3, 4])\n",
        "y = x*2\n",
        "\n",
        "plt.plot(x, y)\n",
        "\n",
        "x1 = [2, 4, 6, 8]\n",
        "y1 = [3, 5, 7, 9]\n",
        " \n",
        "plt.plot(x1, y1, '-.')\n",
        "\n",
        "plt.xlabel(\"X-axis data\")\n",
        "plt.ylabel(\"Y-axis data\")\n",
        "plt.title('multiple plots')\n",
        "plt.show()\n"
      ],
      "metadata": {
        "id": "uNxX0q0Eu7VK"
      },
      "execution_count": null,
      "outputs": []
    },
    {
      "cell_type": "markdown",
      "source": [
        "##**Histogram** "
      ],
      "metadata": {
        "id": "Ps3812dHu9EA"
      }
    },
    {
      "cell_type": "markdown",
      "source": [
        "# basic histogram of some random values"
      ],
      "metadata": {
        "id": "_HpHrqJWa24H"
      }
    },
    {
      "cell_type": "code",
      "source": [
        "from matplotlib import pyplot as plt\n",
        "import numpy as np\n",
        "\n",
        "\n",
        "a = np.array([22, 87, 5, 43, 56,\n",
        "\t\t\t73, 55, 54, 11,\n",
        "\t\t\t20, 51, 5, 79, 31,\n",
        "\t\t\t27])\n",
        "\n",
        "fig, ax = plt.subplots(figsize =(10, 7))\n",
        "ax.hist(a, bins = [0, 25, 50, 75, 100])\n",
        "\n",
        "plt.show()\n"
      ],
      "metadata": {
        "id": "X45MllEWvCll"
      },
      "execution_count": null,
      "outputs": []
    },
    {
      "cell_type": "markdown",
      "source": [
        "# Customization of Histogram"
      ],
      "metadata": {
        "id": "kWgptMjHaidG"
      }
    },
    {
      "cell_type": "code",
      "source": [
        "import matplotlib.pyplot as plt\n",
        "import numpy as np\n",
        "from matplotlib import colors\n",
        "from matplotlib.ticker import PercentFormatter\n",
        "\n",
        "np.random.seed(23685752)\n",
        "N_points = 10000\n",
        "n_bins = 20\n",
        "\n",
        "x = np.random.randn(N_points)\n",
        "y = .8 ** x + np.random.randn(10000) + 25\n",
        "\n",
        "fig, axs = plt.subplots(1, 1,\n",
        "\t\t\t\t\t\tfigsize =(10, 7),\n",
        "\t\t\t\t\t\ttight_layout = True)\n",
        "\n",
        "axs.hist(x, bins = n_bins)\n",
        "\n",
        "plt.show()\n"
      ],
      "metadata": {
        "id": "U27ZWFp1vDXl"
      },
      "execution_count": null,
      "outputs": []
    },
    {
      "cell_type": "markdown",
      "source": [
        "# The code below modifies the above histogram for a better view and accurate readings. "
      ],
      "metadata": {
        "id": "NeLk66VUaw5T"
      }
    },
    {
      "cell_type": "code",
      "source": [
        "import matplotlib.pyplot as plt\n",
        "import numpy as np\n",
        "from matplotlib import colors\n",
        "from matplotlib.ticker import PercentFormatter\n",
        "\n",
        "\n",
        "np.random.seed(23685752)\n",
        "N_points = 10000\n",
        "n_bins = 20\n",
        "\n",
        "x = np.random.randn(N_points)\n",
        "y = .8 ** x + np.random.randn(10000) + 25\n",
        "legend = ['distribution']\n",
        "\n",
        "fig, axs = plt.subplots(1, 1,\n",
        "\t\t\t\t\t\tfigsize =(10, 7),\n",
        "\t\t\t\t\t\ttight_layout = True)\n",
        "\n",
        "\n",
        "for s in ['top', 'bottom', 'left', 'right']:\n",
        "\taxs.spines[s].set_visible(False)\n",
        "\n",
        "axs.xaxis.set_ticks_position('none')\n",
        "axs.yaxis.set_ticks_position('none')\n",
        "\n",
        "axs.xaxis.set_tick_params(pad = 5)\n",
        "axs.yaxis.set_tick_params(pad = 10)\n",
        "\n",
        "axs.grid(b = True, color ='grey',\n",
        "\t\tlinestyle ='-.', linewidth = 0.5,\n",
        "\t\talpha = 0.6)\n",
        "\n",
        "fig.text(0.9, 0.15, 'Jeeteshgavande30',\n",
        "\t\tfontsize = 12,\n",
        "\t\tcolor ='red',\n",
        "\t\tha ='right',\n",
        "\t\tva ='bottom',\n",
        "\t\talpha = 0.7)\n",
        "\n",
        "N, bins, patches = axs.hist(x, bins = n_bins)\n",
        "\n",
        "fracs = ((N**(1 / 5)) / N.max())\n",
        "norm = colors.Normalize(fracs.min(), fracs.max())\n",
        "\n",
        "for thisfrac, thispatch in zip(fracs, patches):\n",
        "\tcolor = plt.cm.viridis(norm(thisfrac))\n",
        "\tthispatch.set_facecolor(color)\n",
        "\n",
        "plt.xlabel(\"X-axis\")\n",
        "plt.ylabel(\"y-axis\")\n",
        "plt.legend(legend)\n",
        "plt.title('Customized histogram')\n",
        "\n",
        "plt.show()\n"
      ],
      "metadata": {
        "id": "MN0P-WSBvDJQ"
      },
      "execution_count": null,
      "outputs": []
    }
  ]
}